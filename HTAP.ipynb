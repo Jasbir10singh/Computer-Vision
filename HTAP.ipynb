{
 "cells": [
  {
   "cell_type": "code",
   "execution_count": 1,
   "metadata": {},
   "outputs": [],
   "source": [
    "import cv2 as cv\n",
    "import numpy as np\n",
    "import os"
   ]
  },
  {
   "cell_type": "code",
   "execution_count": 47,
   "metadata": {},
   "outputs": [],
   "source": [
    "os.chdir('C:\\Jasbir\\Data Science Project Capgemini\\Self Healing automation')\n",
    "img1 = cv.imread(\"calculator.jpg\",cv.IMREAD_UNCHANGED)\n",
    "img2 = cv.imread(\"history.jpg\",cv.IMREAD_UNCHANGED)"
   ]
  },
  {
   "cell_type": "code",
   "execution_count": 48,
   "metadata": {},
   "outputs": [],
   "source": [
    "image1 = np.array(img1) # to solve TypeError: Expected cv::UMat for argument image\n",
    "image2 = np.array(img2)"
   ]
  },
  {
   "cell_type": "code",
   "execution_count": 24,
   "metadata": {},
   "outputs": [],
   "source": [
    "#pip install pyautogui"
   ]
  },
  {
   "cell_type": "code",
   "execution_count": 30,
   "metadata": {},
   "outputs": [
    {
     "data": {
      "text/plain": [
       "Box(left=1709, top=143, width=113, height=63)"
      ]
     },
     "execution_count": 30,
     "metadata": {},
     "output_type": "execute_result"
    }
   ],
   "source": [
    "import pyautogui\n",
    "im1 = pyautogui.screenshot()\n",
    "im1.save('my_screenshot.png')\n",
    "#im2 = pyautogui.screenshot('my_screenshot2.png')\n",
    "button7location = pyautogui.locateOnScreen('button.png') # returns (left, top, width, height) of matching region \n",
    "button7location"
   ]
  },
  {
   "cell_type": "code",
   "execution_count": 31,
   "metadata": {},
   "outputs": [
    {
     "data": {
      "text/plain": [
       "(1765, 174)"
      ]
     },
     "execution_count": 31,
     "metadata": {},
     "output_type": "execute_result"
    }
   ],
   "source": [
    "buttonx, buttony = pyautogui.center(button7location) # returns center of the button \n",
    "buttonx, buttony"
   ]
  },
  {
   "cell_type": "code",
   "execution_count": 32,
   "metadata": {},
   "outputs": [
    {
     "data": {
      "text/plain": [
       "(1765, 174)"
      ]
     },
     "execution_count": 32,
     "metadata": {},
     "output_type": "execute_result"
    }
   ],
   "source": [
    "buttonx, buttony = pyautogui.locateCenterOnScreen('button.png') # returns (x, y) of matching region\n",
    "buttonx, buttony"
   ]
  },
  {
   "cell_type": "code",
   "execution_count": 16,
   "metadata": {},
   "outputs": [
    {
     "data": {
      "text/plain": [
       "'C:\\\\Jasbir\\\\Data Science Project Capgemini\\\\Self Healing automation'"
      ]
     },
     "execution_count": 16,
     "metadata": {},
     "output_type": "execute_result"
    }
   ],
   "source": [
    "#os.getcwd()"
   ]
  },
  {
   "cell_type": "code",
   "execution_count": 49,
   "metadata": {},
   "outputs": [],
   "source": [
    "result = cv.matchTemplate(image1,image2,cv.TM_CCOEFF_NORMED)\n",
    "#cv.imshow('Result',result)\n",
    "#cv.waitKey(0)\n",
    "#cv.destroyAllWindows()"
   ]
  },
  {
   "cell_type": "code",
   "execution_count": 50,
   "metadata": {},
   "outputs": [
    {
     "name": "stdout",
     "output_type": "stream",
     "text": [
      "Best match top most position: (726, 68)\n",
      "Best match confidence: 0.9959383010864258\n"
     ]
    }
   ],
   "source": [
    "min_val,max_val,min_loc,max_loc = cv.minMaxLoc(result)#get the best match position\n",
    "print('Best match top most position: %s' % str(max_loc))\n",
    "print('Best match confidence: %s' % max_val)"
   ]
  },
  {
   "cell_type": "code",
   "execution_count": 51,
   "metadata": {},
   "outputs": [
    {
     "name": "stdout",
     "output_type": "stream",
     "text": [
      "perfect match\n"
     ]
    }
   ],
   "source": [
    "threshold =0.8\n",
    "if max_val >= threshold:\n",
    "    print('perfect match')\n",
    "else:\n",
    "    print('not match')"
   ]
  },
  {
   "cell_type": "code",
   "execution_count": 53,
   "metadata": {},
   "outputs": [],
   "source": [
    "#now we have best match position of the image let's draw rectangle where the part of the image in complete image\n",
    "image2_w = image2.shape[1] #get the diminsional of the symbol image which we are finding \n",
    "image2_h = image2.shape[0]\n",
    "\n",
    "top_left = max_loc\n",
    "bottom_right = (top_left[0] + image2_w,top_left[1] + image2_h)\n",
    "\n",
    "cv.rectangle(image1,top_left,bottom_right,color=(0,255,0),thickness=2,lineType=cv.LINE_4)\n",
    "cv.imshow('Result',image1)\n",
    "cv.waitKey(0)\n",
    "cv.destroyAllWindows()"
   ]
  },
  {
   "cell_type": "code",
   "execution_count": null,
   "metadata": {},
   "outputs": [],
   "source": []
  }
 ],
 "metadata": {
  "kernelspec": {
   "display_name": "Python 3",
   "language": "python",
   "name": "python3"
  },
  "language_info": {
   "codemirror_mode": {
    "name": "ipython",
    "version": 3
   },
   "file_extension": ".py",
   "mimetype": "text/x-python",
   "name": "python",
   "nbconvert_exporter": "python",
   "pygments_lexer": "ipython3",
   "version": "3.7.3"
  }
 },
 "nbformat": 4,
 "nbformat_minor": 4
}
